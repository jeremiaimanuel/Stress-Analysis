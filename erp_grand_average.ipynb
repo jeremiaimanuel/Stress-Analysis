{
 "cells": [
  {
   "cell_type": "code",
   "execution_count": null,
   "metadata": {},
   "outputs": [],
   "source": [
    "import mne\n",
    "import numpy as np\n",
    "import scipy\n",
    "import os\n",
    "from scipy import signal as sg\n",
    "from matplotlib import pyplot as plt\n",
    "from mne.preprocessing import ICA, create_ecg_epochs, create_eog_epochs, read_ica"
   ]
  },
  {
   "cell_type": "code",
   "execution_count": null,
   "metadata": {},
   "outputs": [],
   "source": [
    "directory_path = \"D:/EEG RESEARCH DATA\"\n",
    "os.chdir(directory_path)\n",
    "\n"
   ]
  },
  {
   "cell_type": "code",
   "execution_count": 2,
   "metadata": {},
   "outputs": [
    {
     "ename": "NameError",
     "evalue": "name 'dtype' is not defined",
     "output_type": "error",
     "traceback": [
      "\u001b[1;31m---------------------------------------------------------------------------\u001b[0m",
      "\u001b[1;31mNameError\u001b[0m                                 Traceback (most recent call last)",
      "Cell \u001b[1;32mIn[2], line 1\u001b[0m\n\u001b[1;32m----> 1\u001b[0m epochs_stress \u001b[38;5;241m=\u001b[39m \u001b[43mdtype\u001b[49m(\u001b[38;5;28mobject\u001b[39m)\n",
      "\u001b[1;31mNameError\u001b[0m: name 'dtype' is not defined"
     ]
    }
   ],
   "source": [
    "fpath = ['epoch_data/20231019_B68_stroopv1_0001',\n",
    "         'epoch_data/20240129_B71_stroop5mins_0002',\n",
    "         'epoch_data/20240129_mat5mins_001',\n",
    "         'epoch_data/20240418_B98_jikken_0001',\n",
    "         'epoch_data/20240418_B98_jikken_0002',\n",
    "         'epoch_data/20240418_B98_jikken_0003',\n",
    "         'epoch_data/20240418_B98_jikken_0004']\n",
    "\n",
    "for i in range(len(fpath)):\n",
    "    epoch_stress = mne.read_epochs(fpath[i]+'-epoch_stress-epo.fif')\n"
   ]
  },
  {
   "cell_type": "code",
   "execution_count": null,
   "metadata": {},
   "outputs": [],
   "source": []
  }
 ],
 "metadata": {
  "kernelspec": {
   "display_name": "mne",
   "language": "python",
   "name": "python3"
  },
  "language_info": {
   "codemirror_mode": {
    "name": "ipython",
    "version": 3
   },
   "file_extension": ".py",
   "mimetype": "text/x-python",
   "name": "python",
   "nbconvert_exporter": "python",
   "pygments_lexer": "ipython3",
   "version": "3.11.6"
  }
 },
 "nbformat": 4,
 "nbformat_minor": 2
}
